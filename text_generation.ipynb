{
 "cells": [
  {
   "cell_type": "markdown",
   "metadata": {},
   "source": [
    "# Geração de texto com cadeias de Markov"
   ]
  },
  {
   "cell_type": "markdown",
   "execution_count": null,
   "metadata": {},
   "outputs": [],
   "source": [
    "Teste para a disciplina de Introdução à Teoria da Computação"
   ]
  },
  {
   "cell_type": "markdown",
   "execution_count": null,
   "metadata": {},
   "outputs": [],
   "source": []
  },
  {
   "cell_type": "code",
   "execution_count": 6,
   "metadata": {},
   "outputs": [],
   "source": [
    "import re\n",
    "import numpy as np\n",
    "\n",
    "with open('comments.txt') as f:\n",
    "    comments = f.read()\n",
    "\n",
    "pontuations = ['.','-',',','!','?','(','—',')']\n",
    "first_words = []\n",
    "end_words = []\n",
    "\n",
    "for word_begin in re.findall(r'\\n\\w+\\b', comments):\n",
    "    word_begin = word_begin.replace('\\n', '')\n",
    "    first_words.append(word_begin)\n",
    "\n",
    "# speeches = re.sub(' +', ' ', speeches)\n",
    "\n",
    "comments = comments.replace('\\t',' ')\n",
    "comments = comments.replace('“', ' ')\n",
    "comments = comments.replace('”', ' ')\n",
    "comments = comments.replace('\"', ' ')\n",
    "\n",
    "for pontuation in pontuations:\n",
    "    comments = comments.replace(pontuation, ' {0} '.format(pontuation))\n",
    "\n",
    "for line in comments.split('\\n'):\n",
    "    words = line.split(' ')\n",
    "    if len(words) < 6:\n",
    "        continue\n",
    "    for word in reversed(words):\n",
    "        if word == '' or word in pontuations:\n",
    "            continue\n",
    "        end_words.append(word)\n",
    "        break\n",
    "    \n",
    "comments = comments.replace('\\n', ' ')\n",
    "\n",
    "comments = comments.split()\n",
    "first_words = np.array(first_words)\n",
    "end_words = np.array(end_words)"
   ]
  },
  {
   "cell_type": "code",
   "execution_count": 8,
   "metadata": {},
   "outputs": [],
   "source": [
    "word_pairs = {}\n",
    "\n",
    "for i, word in enumerate(comments[1:]):\n",
    "    previous_word = comments[i-1].lower()\n",
    "    word = word.lower()\n",
    "    \n",
    "    if previous_word not in word_pairs:\n",
    "        word_pairs[previous_word] = {}\n",
    "    if word in word_pairs[previous_word]:\n",
    "        word_pairs[previous_word][word] += 1\n",
    "    else:    \n",
    "        word_pairs[previous_word][word] = 1"
   ]
  },
  {
   "cell_type": "code",
   "execution_count": 9,
   "metadata": {},
   "outputs": [],
   "source": [
    "def markov_chain(first_word, total_words=-1):\n",
    "    sentence = first_word.capitalize()\n",
    "    current_word = first_word.lower()\n",
    "    if total_words == -1:\n",
    "        total_words = 50\n",
    "        stop_word = True\n",
    "    else:\n",
    "        stop_word = False\n",
    "    \n",
    "    for i in range(total_words):\n",
    "        current_word_pairs = word_pairs[current_word]\n",
    "        total = sum(current_word_pairs.values())\n",
    "        if(total == 0): continue\n",
    "        \n",
    "        next_word = []\n",
    "        weight = []\n",
    "        for key, word in current_word_pairs.items():\n",
    "            next_word.append(key)\n",
    "            weight.append(word/total)\n",
    "        next_word = np.array(next_word)\n",
    "        weight = np.array(weight)\n",
    "        \n",
    "        chosen_word = np.random.choice(next_word, p=weight).strip()\n",
    "        if chosen_word in pontuations:\n",
    "            sentence += chosen_word\n",
    "        elif current_word in ['.', '?'] or chosen_word == 'i':\n",
    "            sentence += \" \" + chosen_word.capitalize()\n",
    "        else:\n",
    "            sentence += \" \" + chosen_word\n",
    "        if stop_word and chosen_word in end_words:\n",
    "            if np.random.rand() > 0.5: \n",
    "                break\n",
    "        current_word = chosen_word\n",
    "    return sentence"
   ]
  },
  {
   "cell_type": "code",
   "execution_count": 12,
   "metadata": {},
   "outputs": [
    {
     "data": {
      "text/plain": "'Exatamente esperava excelente fiquei pé não'"
     },
     "metadata": {},
     "output_type": "display_data"
    },
    {
     "data": {
      "text/plain": "'Muito amei minha'"
     },
     "metadata": {},
     "output_type": "display_data"
    },
    {
     "data": {
      "text/plain": "'Adorei qualidade'"
     },
     "metadata": {},
     "output_type": "display_data"
    },
    {
     "data": {
      "text/plain": "'Só testa realmente forte usei excelente. Unico é'"
     },
     "metadata": {},
     "output_type": "display_data"
    },
    {
     "data": {
      "text/plain": "'Bom no caso, bonito e machuco pé'"
     },
     "metadata": {},
     "output_type": "display_data"
    },
    {
     "data": {
      "text/plain": "'Os são largad ótimo, defeito'"
     },
     "metadata": {},
     "output_type": "display_data"
    },
    {
     "data": {
      "text/plain": "'Gostei todas'"
     },
     "metadata": {},
     "output_type": "display_data"
    },
    {
     "data": {
      "text/plain": "'Refletor voo pra., que usado minha e o num de, perfeitamente'"
     },
     "metadata": {},
     "output_type": "display_data"
    },
    {
     "data": {
      "text/plain": "'Muito. O'"
     },
     "metadata": {},
     "output_type": "display_data"
    },
    {
     "data": {
      "text/plain": "'Falando sou, funcionamento. Bom para um para. Muito, média realmente couro mas'"
     },
     "metadata": {},
     "output_type": "display_data"
    }
   ],
   "source": [
    "random_first_words = np.random.choice(first_words, (10,))\n",
    "random_first_words\n",
    "\n",
    "for random_first_word in random_first_words:\n",
    "    display(markov_chain(random_first_word))"
   ]
  }
 ],
 "metadata": {
  "kernelspec": {
   "display_name": "Python 3",
   "language": "python",
   "name": "python3"
  },
  "language_info": {
   "codemirror_mode": {
    "name": "ipython",
    "version": 3
   },
   "file_extension": ".py",
   "mimetype": "text/x-python",
   "name": "python",
   "nbconvert_exporter": "python",
   "pygments_lexer": "ipython3",
   "version": "3.7.4"
  },
  "varInspector": {
   "cols": {
    "lenName": 16,
    "lenType": 16,
    "lenVar": 40
   },
   "kernels_config": {
    "python": {
     "delete_cmd_postfix": "",
     "delete_cmd_prefix": "del ",
     "library": "var_list.py",
     "varRefreshCmd": "print(var_dic_list())"
    },
    "r": {
     "delete_cmd_postfix": ") ",
     "delete_cmd_prefix": "rm(",
     "library": "var_list.r",
     "varRefreshCmd": "cat(var_dic_list()) "
    }
   },
   "types_to_exclude": [
    "module",
    "function",
    "builtin_function_or_method",
    "instance",
    "_Feature"
   ],
   "window_display": false
  }
 },
 "nbformat": 4,
 "nbformat_minor": 2
}